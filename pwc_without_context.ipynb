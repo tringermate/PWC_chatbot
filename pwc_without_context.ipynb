{
 "cells": [
  {
   "cell_type": "markdown",
   "id": "36f35877-7cb8-42b7-9a82-07457bb9e056",
   "metadata": {},
   "source": [
    "# This is an RAG Chatbot that can answer questions based on an article about Vendée Globe"
   ]
  },
  {
   "cell_type": "markdown",
   "id": "44ee850b-63f7-458a-9c71-a196e8c28397",
   "metadata": {},
   "source": [
    "### Imports and warnings off"
   ]
  },
  {
   "cell_type": "code",
   "execution_count": 4,
   "id": "fce3cd20-7afe-455b-9543-c102b35dddbd",
   "metadata": {},
   "outputs": [],
   "source": [
    "import requests\n",
    "from bs4 import BeautifulSoup\n",
    "from langchain.schema import Document  \n",
    "from langchain.text_splitter import RecursiveCharacterTextSplitter\n",
    "from langchain.vectorstores import FAISS\n",
    "from langchain.embeddings import HuggingFaceEmbeddings\n",
    "from transformers import pipeline, AutoTokenizer\n",
    "from langchain.memory import ConversationBufferWindowMemory\n",
    "from langchain.schema import AIMessage, HumanMessage \n",
    "import warnings\n",
    "warnings.filterwarnings(\"ignore\")"
   ]
  },
  {
   "cell_type": "markdown",
   "id": "b33813c8-90a9-456c-8d4b-81889b6cbde4",
   "metadata": {},
   "source": [
    "### Scraping function"
   ]
  },
  {
   "cell_type": "code",
   "execution_count": 5,
   "id": "87c430cf-a1cd-4745-8621-8a539f80c425",
   "metadata": {},
   "outputs": [],
   "source": [
    "def content_from_url(url):\n",
    "    response = requests.get(url)\n",
    "    if response.status_code == 200:\n",
    "        soup = BeautifulSoup(response.content, 'html.parser')\n",
    "        paragraphs = soup.find_all('p')\n",
    "        content = \" \".join([para.get_text() for para in paragraphs])\n",
    "        return content.strip()\n",
    "    else:\n",
    "        print(f\"Failed: {response.status_code}\")\n",
    "        return None"
   ]
  },
  {
   "cell_type": "markdown",
   "id": "c3afe5fc-5648-4ae3-8ddb-5b758f278f8b",
   "metadata": {},
   "source": [
    "### Initializing FAISS Database and Q&A pipeline"
   ]
  },
  {
   "cell_type": "code",
   "execution_count": 6,
   "id": "2e4822b9-0c96-419c-9765-1562ae14bcb6",
   "metadata": {},
   "outputs": [],
   "source": [
    "def init_db(content, url, model_path, model_name):\n",
    "    documents = [Document(page_content=content, metadata={\"source\": url})]\n",
    "    text_splitter = RecursiveCharacterTextSplitter(chunk_size=1000, chunk_overlap=150)\n",
    "    docs = text_splitter.split_documents(documents)\n",
    "\n",
    "    model_kwargs = {'device': 'cpu'} \n",
    "    encode_kwargs = {'normalize_embeddings': False}\n",
    "    tokenizer = AutoTokenizer.from_pretrained(model_name, padding=True, truncation=True, max_length=512)\n",
    "\n",
    "    embeddings = HuggingFaceEmbeddings(\n",
    "        model_name=model_path,\n",
    "        model_kwargs=model_kwargs,\n",
    "        encode_kwargs=encode_kwargs\n",
    "    )\n",
    "    db = FAISS.from_documents(docs, embeddings)\n",
    "    retriever = db.as_retriever(search_kwargs={\"k\": 4})\n",
    "\n",
    "    qa_pipeline_instance = pipeline(\n",
    "        \"question-answering\",\n",
    "        model=model_name,\n",
    "        tokenizer=tokenizer,\n",
    "        return_tensors='pt'\n",
    "    )\n",
    "\n",
    "    return retriever, qa_pipeline_instance"
   ]
  },
  {
   "cell_type": "markdown",
   "id": "e9f59489-f870-48fb-ad3b-ecf962807d77",
   "metadata": {},
   "source": [
    "### Chatbot class"
   ]
  },
  {
   "cell_type": "code",
   "execution_count": 10,
   "id": "e349800b-4fbd-480f-a606-f776f02e894a",
   "metadata": {},
   "outputs": [],
   "source": [
    "class Chatbot:\n",
    "    def __init__(self, retriever, qa_pipeline, memory_length=6, prompt_template=\"Hello! I am your assistant. {context}\"):\n",
    "        self.retriever = retriever\n",
    "        self.qa_pipeline = qa_pipeline\n",
    "        self.memory = ConversationBufferWindowMemory(k=memory_length)\n",
    "        self.prompt_template = prompt_template\n",
    "        self.prompt = self.prompt_template.format(context=\"How can I help you today?\")\n",
    "        self.memory.chat_memory.add_message(AIMessage(content=self.prompt))  # Add prompt to memory   \n",
    "\n",
    "    def ask(self, question):\n",
    "        # Retrieve relevant documents\n",
    "        search_docs = self.retriever.invoke(question)\n",
    "        context = \"\\n\".join([doc.page_content for doc in search_docs])\n",
    "        \n",
    "        try:\n",
    "            \n",
    "            answer = self.qa_pipeline(question=question, context=context)\n",
    "            \n",
    "            self.memory.chat_memory.add_message(HumanMessage(content=question))\n",
    "            self.memory.chat_memory.add_message(AIMessage(content=answer['answer']))\n",
    "            \n",
    "            return answer['answer']\n",
    "        except Exception as e:\n",
    "            return f\"Error: {e}\"\n",
    "    \n",
    "    def print_memory(self):\n",
    "        return self.memory.load_memory_variables({})['history']\n",
    "    \n",
    "    def reset_memory(self):\n",
    "        self.memory.clear()\n",
    "        self.memory.chat_memory.add_message(AIMessage(content=self.prompt))\n",
    "    \n",
    "    def chat(self):\n",
    "        print(self.prompt)\n",
    "        print(\"Type 'exit' to end the chat.\")\n",
    "        while True:\n",
    "            user_input = input(\"You: \")\n",
    "            if user_input.lower() == 'exit':\n",
    "                print(\"Chat ended.\")\n",
    "                break\n",
    "            response = self.ask(user_input)\n",
    "            print(f\"Bot: {response}\")\n"
   ]
  },
  {
   "cell_type": "markdown",
   "id": "eb2af13f-645e-488e-bb00-ec76bad49c0d",
   "metadata": {},
   "source": [
    "### Building"
   ]
  },
  {
   "cell_type": "code",
   "execution_count": 8,
   "id": "c1c50818-0fcb-45af-b357-d44eae052568",
   "metadata": {},
   "outputs": [
    {
     "name": "stdout",
     "output_type": "stream",
     "text": [
      "Use `chatbot.chat()` to start a conversation,\n",
      "`chatbot.print_memory()` to view memory, and\n",
      "`chatbot.reset_memory()` to clear memory.\n"
     ]
    }
   ],
   "source": [
    "url = \"https://www.vendeeglobe.org/en/article/first-interim-debrief-after-one-month-10th-edition-vendee-globe\"\n",
    "content =content_from_url(url)\n",
    "\n",
    "if content:\n",
    "    model_path = \"sentence-transformers/all-MiniLM-l6-v2\"\n",
    "    model_name = \"Intel/dynamic_tinybert\"\n",
    "    \n",
    "    retriever, qa_pipeline_instance = init_db(content, url, model_path, model_name)\n",
    "    \n",
    "    # Init\n",
    "    chatbot = Chatbot(\n",
    "        retriever, \n",
    "        qa_pipeline_instance, \n",
    "        memory_length=5, \n",
    "        prompt_template=\"Hi! I am your vendee globe article bot. {context}\"\n",
    "    )\n",
    "    \n",
    "    print(\"Use `chatbot.chat()` to start a conversation,\\n`chatbot.print_memory()` to view memory, and\\n`chatbot.reset_memory()` to clear memory.\")\n",
    "else:\n",
    "    print(\"Failed to fetch url content.\")\n",
    "\n",
    "chatbot = Chatbot(\n",
    "    retriever, \n",
    "    qa_pipeline_instance, \n",
    "    memory_length=6\n",
    ")"
   ]
  },
  {
   "cell_type": "markdown",
   "id": "c136dc6d-342a-4b96-8a4a-433767e70e17",
   "metadata": {},
   "source": [
    "## Test"
   ]
  },
  {
   "cell_type": "code",
   "execution_count": 9,
   "id": "ed346f28-2aaa-448c-aa2e-6a74c2e0aa0d",
   "metadata": {},
   "outputs": [
    {
     "name": "stdout",
     "output_type": "stream",
     "text": [
      "Hello! I am your assistant. How can I help you today?\n",
      "Type 'exit' to end the chat.\n"
     ]
    },
    {
     "name": "stdin",
     "output_type": "stream",
     "text": [
      "You:  who is the captain of Macif?\n"
     ]
    },
    {
     "name": "stdout",
     "output_type": "stream",
     "text": [
      "Bot: Charlie Dalin\n"
     ]
    },
    {
     "name": "stdin",
     "output_type": "stream",
     "text": [
      "You:  exit\n"
     ]
    },
    {
     "name": "stdout",
     "output_type": "stream",
     "text": [
      "Chat ended.\n"
     ]
    }
   ],
   "source": [
    "chatbot.chat()"
   ]
  }
 ],
 "metadata": {
  "kernelspec": {
   "display_name": "Python 3 (ipykernel)",
   "language": "python",
   "name": "python3"
  },
  "language_info": {
   "codemirror_mode": {
    "name": "ipython",
    "version": 3
   },
   "file_extension": ".py",
   "mimetype": "text/x-python",
   "name": "python",
   "nbconvert_exporter": "python",
   "pygments_lexer": "ipython3",
   "version": "3.10.7"
  }
 },
 "nbformat": 4,
 "nbformat_minor": 5
}
